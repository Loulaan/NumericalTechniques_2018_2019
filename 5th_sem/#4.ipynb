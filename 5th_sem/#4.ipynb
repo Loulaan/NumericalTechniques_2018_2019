{
 "cells": [
  {
   "cell_type": "code",
   "execution_count": 1,
   "metadata": {},
   "outputs": [],
   "source": [
    "%reload_ext autoreload\n",
    "%autoreload 2\n",
    "%matplotlib inline"
   ]
  },
  {
   "cell_type": "markdown",
   "metadata": {},
   "source": [
    "# Задание №4 - Минимизация квадратичной функции."
   ]
  },
  {
   "cell_type": "markdown",
   "metadata": {},
   "source": [
    "## Начальная инициализация."
   ]
  },
  {
   "cell_type": "code",
   "execution_count": 2,
   "metadata": {},
   "outputs": [],
   "source": [
    "from sympy import *\n",
    "import numpy as np\n",
    "from scipy.spatial import distance"
   ]
  },
  {
   "cell_type": "markdown",
   "metadata": {},
   "source": [
    "Объявляем функцию:  \n",
    " \n",
    "$$\\ f(x) = 2x^2 + 3.7y^2 + 4.7z^2 + xy - yz + xz + x - 2y + 3z + 7 $$\n",
    "\n",
    "Следуя теории, наша квадратичная форма имеет вид:  \n",
    " \n",
    "$$\\ f(x) = \\frac{1}{2}x^TAx+x^Tb $$  \n",
    " \n",
    "Отсюда, наша матрица А и вектор b имеют вид: \n",
    " \n",
    "$ A=\\begin{pmatrix}4& 1& 1\\\\1& 7.4& -1\\\\1& -1& 9.4\\end{pmatrix}$  \n",
    " \n",
    "\n",
    "$  b = \\begin{pmatrix}1& -2& 3\\end{pmatrix}$  \n",
    " \n",
    "Инициализируем их:"
   ]
  },
  {
   "cell_type": "code",
   "execution_count": 3,
   "metadata": {},
   "outputs": [],
   "source": [
    "x, y, z = symbols('x, y, z')\n",
    "f = 2*x*x + 3.7*y*y + 4.7*z*z + x*y - y*z + x*z + x - 2*y + 3*z + 7\n",
    "A = np.array([\n",
    "    [4, 1, 1],\n",
    "    [1, 7.4, -1 ],\n",
    "    [1, -1, 9.4]], dtype=np.float64 )\n",
    "b = np.array([1, -2, 3], dtype=np.float64)"
   ]
  },
  {
   "cell_type": "markdown",
   "metadata": {},
   "source": [
    "### Метод наискорейшего градиентного спуска."
   ]
  },
  {
   "cell_type": "markdown",
   "metadata": {},
   "source": [
    "Сделаем начальную инициализацию параметров метода наискорейшего градиентного спуска."
   ]
  },
  {
   "cell_type": "code",
   "execution_count": 15,
   "metadata": {},
   "outputs": [
    {
     "data": {
      "text/plain": [
       "[6.25600000000000]"
      ]
     },
     "execution_count": 15,
     "metadata": {},
     "output_type": "execute_result"
    }
   ],
   "source": [
    "x_k = np.array([-0.2, 0.2, -0.2], dtype=np.float64)\n",
    "f_n = []  # list of function's values.\n",
    "f_n.append(f.subs({x:x_k[0], y:x_k[1], z:x_k[2]}))\n",
    "f_n"
   ]
  },
  {
   "cell_type": "markdown",
   "metadata": {},
   "source": [
    "Как мы видим, значение функции в точке *`(-0.2, 0.2, -0.2)`* = **6.256**  \n",
    "```\n",
    " \n",
    "``` \n",
    "Здесь у нас переменные:\n",
    "* x_k = рассматриваемая точка.\n",
    "* f_n - запоминает значения $f(x_k)$ на каждой итерации.\n",
    "* q_k - градиент.\n",
    "* m_k - шаг метода."
   ]
  },
  {
   "cell_type": "markdown",
   "metadata": {},
   "source": [
    "### Метод наискорейшего градиентного спуска."
   ]
  },
  {
   "cell_type": "code",
   "execution_count": 16,
   "metadata": {},
   "outputs": [],
   "source": [
    "while True:\n",
    "    q_k = np.dot(A, x_k) + b\n",
    "    m_k = np.linalg.norm(q_k)**2/(np.dot(q_k, np.dot(A, q_k)))\n",
    "    x_k -= m_k * q_k\n",
    "    f_n.append(f.subs({x:x_k[0], y:x_k[1], z:x_k[2]}))\n",
    "    if np.linalg.norm(np.dot(A, x_k) + b)/2 < 1e-6:\n",
    "        break"
   ]
  },
  {
   "cell_type": "code",
   "execution_count": 17,
   "metadata": {
    "scrolled": false
   },
   "outputs": [
    {
     "data": {
      "text/plain": [
       "[6.25600000000000,\n",
       " 6.21231858695210,\n",
       " 6.21031172454482,\n",
       " 6.21010002469932,\n",
       " 6.21007512805621,\n",
       " 6.21007017301839,\n",
       " 6.21006916426142,\n",
       " 6.21006895531707,\n",
       " 6.21006891203182,\n",
       " 6.21006890306387,\n",
       " 6.21006890120587,\n",
       " 6.21006890082092,\n",
       " 6.21006890074117,\n",
       " 6.21006890072464,\n",
       " 6.21006890072122,\n",
       " 6.21006890072051]"
      ]
     },
     "execution_count": 17,
     "metadata": {},
     "output_type": "execute_result"
    }
   ],
   "source": [
    "f_n"
   ]
  },
  {
   "cell_type": "code",
   "execution_count": 18,
   "metadata": {},
   "outputs": [
    {
     "data": {
      "text/plain": [
       "16"
      ]
     },
     "execution_count": 18,
     "metadata": {},
     "output_type": "execute_result"
    }
   ],
   "source": [
    "len(f_n)"
   ]
  },
  {
   "cell_type": "code",
   "execution_count": 19,
   "metadata": {},
   "outputs": [
    {
     "data": {
      "text/plain": [
       "array([-0.25117417,  0.26855615, -0.26385857])"
      ]
     },
     "execution_count": 19,
     "metadata": {},
     "output_type": "execute_result"
    }
   ],
   "source": [
    "x_k"
   ]
  },
  {
   "cell_type": "markdown",
   "metadata": {},
   "source": [
    "$\\min\\limits_{f(x)} = 6.21006890072051$ с точностью $\\frac{1}{\\delta} \\begin{Vmatrix}Ax^k+b\\end{Vmatrix}_2 < \\frac{1}{10^6}$ был найден за **15** итераций. \n",
    "\n",
    "Точка $min = (-0.25117417,\\space  0.26855615,\\space -0.26385857)$."
   ]
  },
  {
   "cell_type": "markdown",
   "metadata": {},
   "source": [
    "### Метод наискорейшего покоординатного спуска."
   ]
  },
  {
   "cell_type": "markdown",
   "metadata": {},
   "source": [
    "Выполним начальную инициализацию:"
   ]
  },
  {
   "cell_type": "code",
   "execution_count": 20,
   "metadata": {},
   "outputs": [
    {
     "data": {
      "text/plain": [
       "[6.25600000000000]"
      ]
     },
     "execution_count": 20,
     "metadata": {},
     "output_type": "execute_result"
    }
   ],
   "source": [
    "x_k = np.array([-0.2, 0.2, -0.2], dtype=np.float64)\n",
    "f_n = []\n",
    "i = 1\n",
    "f_n.append(f.subs({x:x_k[0], y:x_k[1], z:x_k[2]}))\n",
    "f_n"
   ]
  },
  {
   "cell_type": "markdown",
   "metadata": {},
   "source": [
    "Назначение переменных не менялось."
   ]
  },
  {
   "cell_type": "code",
   "execution_count": 21,
   "metadata": {},
   "outputs": [],
   "source": [
    "def find_ort(n):\n",
    "    e = np.identity(3)  # Создаем единичную матрицу 3х3\n",
    "    return e[n%3-1]"
   ]
  },
  {
   "cell_type": "code",
   "execution_count": 22,
   "metadata": {
    "scrolled": true
   },
   "outputs": [],
   "source": [
    "while True:\n",
    "    e = find_ort(i)\n",
    "    m_k = np.dot(e, (np.dot(A, x_k) + b))/np.dot(e, np.dot(A, e))\n",
    "    x_k -= np.dot(m_k,e)\n",
    "    f_n.append(f.subs({x:x_k[0], y:x_k[1], z:x_k[2]}))\n",
    "    i+=1\n",
    "    if np.linalg.norm(np.dot(A, x_k) + b)/2 < 1e-6:\n",
    "        break"
   ]
  },
  {
   "cell_type": "code",
   "execution_count": 23,
   "metadata": {
    "scrolled": false
   },
   "outputs": [
    {
     "data": {
      "text/plain": [
       "[6.25600000000000,\n",
       " 6.25100000000000,\n",
       " 6.22904729729730,\n",
       " 6.21034426821877,\n",
       " 6.21031996105232,\n",
       " 6.21007998219730,\n",
       " 6.21007887260145,\n",
       " 6.21006975742631,\n",
       " 6.21006929335499,\n",
       " 6.21006896382617,\n",
       " 6.21006891594015,\n",
       " 6.21006890404829,\n",
       " 6.21006890167054,\n",
       " 6.21006890088677,\n",
       " 6.21006890076594,\n",
       " 6.21006890073132,\n",
       " 6.21006890072244,\n",
       " 6.21006890072087,\n",
       " 6.21006890072046]"
      ]
     },
     "execution_count": 23,
     "metadata": {},
     "output_type": "execute_result"
    }
   ],
   "source": [
    "f_n"
   ]
  },
  {
   "cell_type": "code",
   "execution_count": 24,
   "metadata": {},
   "outputs": [
    {
     "data": {
      "text/plain": [
       "19"
      ]
     },
     "execution_count": 24,
     "metadata": {},
     "output_type": "execute_result"
    }
   ],
   "source": [
    "len(f_n)"
   ]
  },
  {
   "cell_type": "code",
   "execution_count": 25,
   "metadata": {},
   "outputs": [
    {
     "data": {
      "text/plain": [
       "array([-0.25117471,  0.2685563 , -0.2638584 ])"
      ]
     },
     "execution_count": 25,
     "metadata": {},
     "output_type": "execute_result"
    }
   ],
   "source": [
    "x_k"
   ]
  },
  {
   "cell_type": "markdown",
   "metadata": {},
   "source": [
    "$\\min\\limits_{f(x)} = 6.21006890072046$ с точностью $\\frac{1}{\\delta} \\begin{Vmatrix}Ax^k+b\\end{Vmatrix}_2 < \\frac{1}{10^6}$ был найден за **18** итерацию. \n",
    "\n",
    "Точка $min = (-0.25117471,\\space  0.2685563,\\space -0.2638584)$."
   ]
  }
 ],
 "metadata": {
  "kernelspec": {
   "display_name": "Python 3",
   "language": "python",
   "name": "python3"
  },
  "language_info": {
   "codemirror_mode": {
    "name": "ipython",
    "version": 3
   },
   "file_extension": ".py",
   "mimetype": "text/x-python",
   "name": "python",
   "nbconvert_exporter": "python",
   "pygments_lexer": "ipython3",
   "version": "3.6.5"
  }
 },
 "nbformat": 4,
 "nbformat_minor": 2
}
