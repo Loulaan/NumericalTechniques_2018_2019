{
 "cells": [
  {
   "cell_type": "markdown",
   "metadata": {},
   "source": [
    "# №3 - Сomposite quadrature forms."
   ]
  },
  {
   "cell_type": "markdown",
   "metadata": {},
   "source": [
    "#### Short rewiew of this task.\n",
    "1. Achieve by hand accuracy _1e-6_. Compute error by Runge's rule.\n",
    "2. Calculate $h_{opt}$ using error achieved by Runge's rule. Calculate Integral.\n",
    "3. Use Richardson's Method. Find **`r`** which gives error less than _1e-6_.\n",
    "4. Aitken process: Find _m_.\n",
    "   \n",
    "Let's look at 2 cases:\n",
    "* We know the value of `J`.\n",
    "* The opposite case."
   ]
  },
  {
   "cell_type": "markdown",
   "metadata": {},
   "source": [
    "### Importing neccecary modules."
   ]
  },
  {
   "cell_type": "code",
   "execution_count": 2,
   "metadata": {},
   "outputs": [],
   "source": [
    "import numpy as np\n",
    "import scipy.integrate as integrate\n",
    "import sympy as sp"
   ]
  },
  {
   "cell_type": "markdown",
   "metadata": {},
   "source": [
    "Set our functions and parameters."
   ]
  },
  {
   "cell_type": "code",
   "execution_count": 3,
   "metadata": {},
   "outputs": [],
   "source": [
    "f=lambda x: 4*np.cos(0.5*x)*np.exp(-5/4*x) + 2*np.sin(4.5*x)*np.exp(x/8) + 2\n",
    "a=1.3; b=2.2; alpha=0; beta=5/6; points=np.array([a, (a+b)/2, b]); n=10\n",
    "p=lambda x, j: (x-a)**(-alpha) * (b-x)**(-beta)*x**j"
   ]
  },
  {
   "cell_type": "markdown",
   "metadata": {},
   "source": [
    "### Implement CQF."
   ]
  },
  {
   "cell_type": "markdown",
   "metadata": {},
   "source": [
    "Make Newton-Cotes method available for _n=3_ points."
   ]
  },
  {
   "cell_type": "code",
   "execution_count": 74,
   "metadata": {},
   "outputs": [],
   "source": [
    "def Neuton_Cotes(a, b, n=3):  # Default n is 3\n",
    "    x_n = np.linspace(a, b, n)  # Split the segment into n parts\n",
    "    M = np.array([integrate.quad(p, a, b, args = (j))[0] for j in range(n)])\n",
    "    X = np.array([[x**i for x in x_n] for i in range(n)], dtype=np.float64)\n",
    "    A = np.linalg.solve(X, M)\n",
    "    return np.sum([A[j]*f(x_n[j]) for j in range(n)]);"
   ]
  },
  {
   "cell_type": "markdown",
   "metadata": {},
   "source": [
    "Here our absolute error."
   ]
  },
  {
   "cell_type": "code",
   "execution_count": 75,
   "metadata": {},
   "outputs": [
    {
     "name": "stdout",
     "output_type": "stream",
     "text": [
      "Absolute error is 0.5894857656435128\n"
     ]
    }
   ],
   "source": [
    "f_p = lambda x: (4*np.cos(0.5*x)*np.exp(-5/4*x) + 2*np.sin(4.5*x)*np.exp(x/8) + 2) * (b-x)**(-beta)\n",
    "print('Absolute error is', np.abs(Neuton_Cotes(a, b) - integrate.quad(f_p, a, b)[0]))"
   ]
  },
  {
   "cell_type": "markdown",
   "metadata": {},
   "source": [
    "Composite quadrature forms."
   ]
  },
  {
   "cell_type": "code",
   "execution_count": 76,
   "metadata": {
    "collapsed": true
   },
   "outputs": [],
   "source": [
    "def cqf(a, b, points):\n",
    "    cqf = 0\n",
    "    for i in range(points.size-1):\n",
    "        cqf += Neuton_Cotes(points[i], points[i+1])\n",
    "    return cqf"
   ]
  },
  {
   "cell_type": "markdown",
   "metadata": {},
   "source": [
    "$$ First \\space case \\space (We \\space know \\space our \\space \"J\").  $$"
   ]
  },
  {
   "cell_type": "markdown",
   "metadata": {},
   "source": [
    "### №1, 2, 4 from rewiew above."
   ]
  },
  {
   "cell_type": "code",
   "execution_count": 77,
   "metadata": {},
   "outputs": [],
   "source": [
    "def Aitken(L = 2, h1 = 15):\n",
    "    h2 = h1 * L\n",
    "    h3 = h2 * L\n",
    "    S1 = cqf(a, b, np.linspace(a, b, h1))\n",
    "    S2 = cqf(a, b, np.linspace(a, b, h2))\n",
    "    S3 = cqf(a, b, np.linspace(a, b, h3))\n",
    "    m = -np.log((S3 - S2)/(S2 - S1))/np.log(L)\n",
    "    print(f'm = {m}')\n",
    "    return m "
   ]
  },
  {
   "cell_type": "code",
   "execution_count": 84,
   "metadata": {},
   "outputs": [],
   "source": [
    "def Runge():\n",
    "    step = 0\n",
    "    eps = 1e-6\n",
    "    error = 1\n",
    "    n = 2\n",
    "    m = Aitken()\n",
    "    L = 2\n",
    "    while True:\n",
    "        S1, S2 = cqf(a, b, np.linspace(a, b, n*L)), cqf(a, b, np.linspace(a, b, n))\n",
    "        error = (S2 - S1)/(1-L**(-m))\n",
    "        print(f'Step {step}, n = {n}, error is {error}')\n",
    "        if error < eps:\n",
    "            break\n",
    "        n *= L\n",
    "        step += 1\n",
    "\n",
    "    h_opt = (b-a)/n*((eps/abs(error)))**(1/m)\n",
    "    n_opt = int((b-a)//h_opt)\n",
    "    print(f'Optimal step is {h_opt}. So it\\'s mean we shoud split our interval into {n_opt} parts.')\n",
    "    print(f'The value of quadrature summ using optimal step is {cqf(a, b, np.linspace(a, b, n_opt))}, error is {abs(cqf(a, b, np.linspace(a, b, n_opt)) - integrate.quad(f_p, a, b)[0])}')"
   ]
  },
  {
   "cell_type": "code",
   "execution_count": 85,
   "metadata": {},
   "outputs": [
    {
     "name": "stdout",
     "output_type": "stream",
     "text": [
      "m = 3.448920585485157\n",
      "Step 0, n = 2, error is 0.5994729976334708\n",
      "Step 1, n = 4, error is 0.045777205442445866\n",
      "Step 2, n = 8, error is 0.003327368693765251\n",
      "Step 3, n = 16, error is 0.0002977926854778731\n",
      "Step 4, n = 32, error is 3.0828863349359347e-05\n",
      "Step 5, n = 64, error is 2.156989692167671e-06\n",
      "Step 6, n = 128, error is 3.7908569266993734e-07\n",
      "Optimal step is 0.009314849845401534. So it's mean we shoud split our interval into 96 parts.\n",
      "The value of quadrature summ using optimal step is 10.839546284415842, error is 1.1543401328140135e-06\n"
     ]
    },
    {
     "name": "stderr",
     "output_type": "stream",
     "text": [
      "/home/loulaan/anaconda3/lib/python3.7/site-packages/scipy/integrate/quadpack.py:385: IntegrationWarning: The algorithm does not converge.  Roundoff error is detected\n",
      "  in the extrapolation table.  It is assumed that the requested tolerance\n",
      "  cannot be achieved, and that the returned result (if full_output = 1) is \n",
      "  the best which can be obtained.\n",
      "  warnings.warn(msg, IntegrationWarning)\n"
     ]
    }
   ],
   "source": [
    "Runge()"
   ]
  },
  {
   "cell_type": "markdown",
   "metadata": {},
   "source": [
    "### №3. Richardson's Method"
   ]
  },
  {
   "cell_type": "code",
   "execution_count": 86,
   "metadata": {},
   "outputs": [
    {
     "name": "stdout",
     "output_type": "stream",
     "text": [
      "Error is 1.6091221131109347e-06, Quadrature summ is 10.839558679281112, step is 0.022500000000000003\n",
      "Error is 1.0049376546091009e-06, Quadrature summ is 10.839547163669776, step is 0.011250000000000001\n",
      "Error is 1.4450519371047796e-06, Quadrature summ is 10.839550731257031, step is 0.005625000000000001\n",
      "Error is 2.3952637378578345e-06, Quadrature summ is 10.839543785270703, step is 0.0028125000000000003\n"
     ]
    },
    {
     "name": "stderr",
     "output_type": "stream",
     "text": [
      "/home/loulaan/anaconda3/lib/python3.7/site-packages/scipy/integrate/quadpack.py:385: IntegrationWarning: The algorithm does not converge.  Roundoff error is detected\n",
      "  in the extrapolation table.  It is assumed that the requested tolerance\n",
      "  cannot be achieved, and that the returned result (if full_output = 1) is \n",
      "  the best which can be obtained.\n",
      "  warnings.warn(msg, IntegrationWarning)\n"
     ]
    },
    {
     "name": "stdout",
     "output_type": "stream",
     "text": [
      "Error is 8.710114149869814e-08, Quadrature summ is 10.83954581907276, step is 0.0014062500000000002\n",
      "Last r is 6\n"
     ]
    }
   ],
   "source": [
    "# %%time\n",
    "r = 2\n",
    "m = 2\n",
    "n = 10\n",
    "L = 2\n",
    "eps = 1e-6\n",
    "while True:\n",
    "    h = np.array([n*L**i for i in range(r+1)])\n",
    "    S = np.array([-cqf(a, b, np.linspace(a, b, h[i])) for i in range(h.size)], dtype=np.float64)\n",
    "    H = np.array([[(b-a)/h[i]**(m+j) for j in range(h.size)] for i in range(h.size)])\n",
    "    H[:, -1] = -1\n",
    "    C = np.linalg.solve(H, S)\n",
    "    R = abs(C[:-1] @ H[-1, :-1])\n",
    "    print(f'Error is {R}, Quadrature summ is {C[-1]}, step is {(b-a)/h[-1]}')\n",
    "    if R < eps:\n",
    "        print(f'Last r is {r}')\n",
    "        break\n",
    "    r += 1"
   ]
  },
  {
   "cell_type": "code",
   "execution_count": 104,
   "metadata": {},
   "outputs": [
    {
     "data": {
      "text/plain": [
       "0.00476486512698193"
      ]
     },
     "execution_count": 104,
     "metadata": {},
     "output_type": "execute_result"
    }
   ],
   "source": [
    "h_opt = 0.0014062500000000002*(eps/R)**(1/m)\n",
    "h_opt"
   ]
  },
  {
   "cell_type": "code",
   "execution_count": 102,
   "metadata": {},
   "outputs": [
    {
     "name": "stderr",
     "output_type": "stream",
     "text": [
      "/home/loulaan/anaconda3/lib/python3.7/site-packages/ipykernel_launcher.py:1: DeprecationWarning: object of type <class 'numpy.float64'> cannot be safely interpreted as an integer.\n",
      "  \"\"\"Entry point for launching an IPython kernel.\n",
      "/home/loulaan/anaconda3/lib/python3.7/site-packages/scipy/integrate/quadpack.py:385: IntegrationWarning: The algorithm does not converge.  Roundoff error is detected\n",
      "  in the extrapolation table.  It is assumed that the requested tolerance\n",
      "  cannot be achieved, and that the returned result (if full_output = 1) is \n",
      "  the best which can be obtained.\n",
      "  warnings.warn(msg, IntegrationWarning)\n"
     ]
    },
    {
     "data": {
      "text/plain": [
       "5.6883222701031855e-06"
      ]
     },
     "execution_count": 102,
     "metadata": {},
     "output_type": "execute_result"
    }
   ],
   "source": [
    "abs(C[-1] - cqf(a, b, np.linspace(a, b, (b-a)/h_opt)))"
   ]
  },
  {
   "cell_type": "code",
   "execution_count": null,
   "metadata": {},
   "outputs": [],
   "source": []
  }
 ],
 "metadata": {
  "kernelspec": {
   "display_name": "Python 3",
   "language": "python",
   "name": "python3"
  },
  "language_info": {
   "codemirror_mode": {
    "name": "ipython",
    "version": 3
   },
   "file_extension": ".py",
   "mimetype": "text/x-python",
   "name": "python",
   "nbconvert_exporter": "python",
   "pygments_lexer": "ipython3",
   "version": "3.6.8"
  }
 },
 "nbformat": 4,
 "nbformat_minor": 2
}
