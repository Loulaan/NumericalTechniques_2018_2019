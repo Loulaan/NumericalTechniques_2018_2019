{
 "cells": [
  {
   "cell_type": "markdown",
   "metadata": {},
   "source": [
    "Вариант 6"
   ]
  },
  {
   "cell_type": "code",
   "execution_count": 12,
   "metadata": {},
   "outputs": [],
   "source": [
    "import numpy as np\n",
    "import matplotlib.pyplot as plt\n",
    "\n",
    "%matplotlib inline"
   ]
  },
  {
   "cell_type": "markdown",
   "metadata": {},
   "source": [
    "Initial initialization"
   ]
  },
  {
   "cell_type": "code",
   "execution_count": 13,
   "metadata": {},
   "outputs": [],
   "source": [
    "ksi = 1/15\n",
    "A = 1/10\n",
    "B = 1/12\n",
    "h = 1/2\n",
    "c2 = ksi\n",
    "a21 = c2\n",
    "b2 = 1/(2*c2)\n",
    "b1 = 1-1/(2*c2)"
   ]
  },
  {
   "cell_type": "code",
   "execution_count": 14,
   "metadata": {},
   "outputs": [],
   "source": [
    "def norm_2(x):\n",
    "    return np.sqrt(np.sum(np.power(np.array(x), 2))) \n",
    "\n",
    "def norm_1(x):\n",
    "    return np.abs(np.array(x)).sum()\n",
    "\n",
    "def norm_inf(x):\n",
    "    return np.max(np.abs(np.array(x)))"
   ]
  },
  {
   "cell_type": "code",
   "execution_count": 25,
   "metadata": {},
   "outputs": [],
   "source": [
    "def runge_kutta_my_scheme(h, y1, y2):\n",
    "    k11 = h*y2*A\n",
    "    k12 = -h*y1*B\n",
    "    k21 = h*(y2*A + a21*k11)\n",
    "    k22 = h*(-y1*B + a21*k12)\n",
    "    y1 = y1 + (b1*k11 + b2*k21)\n",
    "    y2 = y2 + (b1*k12 + b2*k22)\n",
    "    return [y1, y2]\n",
    "\n",
    "def solve_my_scheme(h):\n",
    "    eps_local = 1e-5\n",
    "    y = [np.pi/12, np.pi/10]\n",
    "    whole_y = [[np.pi/12, np.pi/10]]\n",
    "    whole_h = [h]\n",
    "    y_h1 = [np.pi/12, np.pi/10]\n",
    "    y_h2 = [np.pi/12, np.pi/10]\n",
    "    delta = 1e2\n",
    "    x = 0\n",
    "    count_local = -1\n",
    "    flag = False\n",
    "    while x <= np.pi:\n",
    "        if x + h > np.pi:\n",
    "            h = np.pi - x\n",
    "            flag = True\n",
    "        count_local += 1\n",
    "        # Вычисляем приближенные решения в точке x+h\n",
    "        y_h1 = runge_kutta_my_scheme(h, y_h1[0], y_h1[1])\n",
    "        y_h2 = runge_kutta_my_scheme(h/2, y_h2[0], y_h2[1])\n",
    "        y_h2_necc = y_h2.copy()\n",
    "        y_h2 = runge_kutta_my_scheme(h/2, y_h2[0], y_h2[1])\n",
    "        \n",
    "        # Находим локальную погрешность\n",
    "        delta_y1 = abs(y_h2[0] - y_h1[0])/3\n",
    "        delta_y2 = abs(y_h2[1] - y_h1[1])/3\n",
    "        delta = [delta_y1, delta_y2]\n",
    "        \n",
    "        # Меняем шаг и рассматриваемое значение x\n",
    "        if flag:\n",
    "            y = y_h1\n",
    "            whole_y.append(y)\n",
    "            x += h\n",
    "            whole_h.append(h)\n",
    "            return delta, y, whole_y, whole_h, count_local\n",
    "        if norm_2(delta) > eps_local*4:\n",
    "            # Уменьшаем шаг в 2 раза и вычисляем заново в той же точке.\n",
    "            y_h1 = y\n",
    "            y_h2 = y\n",
    "            h /= 2\n",
    "        elif norm_2(delta) <= eps_local*4 and norm_2(delta) > eps_local:\n",
    "            # В качестве искомого решения используем приближение y(x+h), где h=h/2, при этом сокращаем шаг\n",
    "            # пополам для продолжения. Т е т к сейчас рассматриваем y(x+h), возвращаемся в точку x и ищем\n",
    "            # y(x+h/2), после сокращаем шаг в 2 раза.\n",
    "            y = y_h2_necc\n",
    "            y_h1 = y\n",
    "            y_h2 = y\n",
    "            whole_y.append(y)\n",
    "            h /= 2\n",
    "            x += h\n",
    "        elif norm_2(delta) >= eps_local/8 and norm_2(delta) <= eps_local:\n",
    "            # Все ОК. Продолжаем вычисления с тем же шагом.\n",
    "            y = y_h1\n",
    "            y_h1 = y\n",
    "            y_h2 = y\n",
    "            whole_y.append(y)\n",
    "            x += h\n",
    "        elif norm_2(delta) < eps_local/8:\n",
    "            # В этом случае увеличиваем шаг в 2 раза и идем дальше.\n",
    "            y = y_h1\n",
    "            y_h1 = y\n",
    "            y_h2 = y\n",
    "            whole_y.append(y)\n",
    "            x += h\n",
    "            h *= 2\n",
    "        whole_h.append(h)\n",
    "    return delta, y, whole_y, whole_h, count_local\n",
    "        \n",
    "def start_my_scheme():\n",
    "    eps = 1e-4\n",
    "    DELTA = (1/np.pi)**3 + norm_2([np.pi/12, np.pi/10])**3\n",
    "    h = (eps/DELTA)**(1/3)\n",
    "#     print(h)\n",
    "    delta, y, whole_y, whole_h, count_local = solve_my_scheme(h)\n",
    "    print(f'Count_local = {count_local}, norm_2_delta = {norm_2(delta)}\\ny = {y}')\n",
    "    return np.array(whole_y), whole_h        "
   ]
  },
  {
   "cell_type": "code",
   "execution_count": 26,
   "metadata": {},
   "outputs": [
    {
     "name": "stdout",
     "output_type": "stream",
     "text": [
      "Count_local = 62, norm_2_delta = 7.309853658212127e-06\n",
      "y = [0.35051721294799654, 0.23160392422935613]\n"
     ]
    }
   ],
   "source": [
    "y_my_scheme, whole_h = start_my_scheme()\n",
    "y1_my_scheme = y_my_scheme[:, 0]\n",
    "y2_my_scheme = y_my_scheme[:, 1]"
   ]
  },
  {
   "cell_type": "code",
   "execution_count": 27,
   "metadata": {},
   "outputs": [
    {
     "data": {
      "image/png": "[encoded data removed]",
      "text/plain": [
       "<Figure size 1080x1080 with 1 Axes>"
      ]
     },
     "metadata": {
      "needs_background": "light"
     },
     "output_type": "display_data"
    }
   ],
   "source": [
    "x = np.linspace(0, np.pi, len(whole_h))\n",
    "plt.figure(figsize=(15, 15))\n",
    "plt.grid(True)\n",
    "plt.title(\"График зависимости величины шага интегрирования (h) от значения независимой переменной (x)\")\n",
    "plt.plot(x, whole_h, color='red');"
   ]
  },
  {
   "cell_type": "code",
   "execution_count": 28,
   "metadata": {},
   "outputs": [],
   "source": [
    "def runge_kutta_opponent(h, y1, y2):\n",
    "    k11 = h*y2*A\n",
    "    k12 = -h*y1*B\n",
    "\n",
    "    k21 = h*(y2*A + 1/2*k11)\n",
    "    k22 = h*(-y1*B + 1/2*k12)\n",
    "\n",
    "    k31 = h*(y2*A + 1/2*(np.sqrt(2)-1)*k11 + (1 - 1/np.sqrt(2)) * k21)\n",
    "    k32 = h*(-y1*B + 1/2*(np.sqrt(2)-1)*k12 + (1 - 1/np.sqrt(2)) * k22)\n",
    "\n",
    "    k41 = h*(y2*A - 1/np.sqrt(2)*k21 + (1 + 1/np.sqrt(2)) * k31)\n",
    "    k42 = h*(-y1*B - 1/np.sqrt(2)*k22 + (1 + 1/np.sqrt(2)) * k32)\n",
    "\n",
    "    y1 = y1 + (1/6*k11 + 1/3*(1 - 1/np.sqrt(2))*k21 + 1/3*(1 + 1/np.sqrt(2))*k31 + 1/6*k41)\n",
    "    y2 = y2 + (1/6*k12 + 1/3*(1 - 1/np.sqrt(2))*k22 + 1/3*(1 + 1/np.sqrt(2))*k32 + 1/6*k42)\n",
    "    return [y1, y2]\n",
    "\n",
    "def solve_opponent(h):\n",
    "    eps_local = 1e-5\n",
    "    y = [np.pi/12, np.pi/10]\n",
    "    whole_y = [[np.pi/12, np.pi/10]]\n",
    "    whole_h = [h]\n",
    "    y_h1 = [np.pi/12, np.pi/10]\n",
    "    y_h2 = [np.pi/12, np.pi/10]\n",
    "    delta = 1e2\n",
    "    x = 0\n",
    "    flag = False\n",
    "    count_local = -1\n",
    "    while x <= np.pi:\n",
    "        if x + h > np.pi:\n",
    "            h = np.pi - x\n",
    "            flag = True\n",
    "        count_local += 1\n",
    "        # Вычисляем приближенные решения в точке x+h\n",
    "        y_h1 = runge_kutta_opponent(h, y_h1[0], y_h1[1])\n",
    "        y_h2 = runge_kutta_opponent(h/2, y_h2[0], y_h2[1])\n",
    "        y_h2_necc = y_h2.copy()\n",
    "        y_h2 = runge_kutta_opponent(h/2, y_h2[0], y_h2[1])\n",
    "        \n",
    "        # Находим локальную погрешность\n",
    "        delta_y1 = abs(y_h2[0] - y_h1[0])/15\n",
    "        delta_y2 = abs(y_h2[1] - y_h1[1])/15\n",
    "        delta = [delta_y1, delta_y2]\n",
    "    \n",
    "        # Меняем шаг и рассматриваемое значение x\n",
    "        if flag:\n",
    "            #Обработка случая x+h>pi\n",
    "            y = y_h1\n",
    "            whole_y.append(y)\n",
    "            x += h\n",
    "            whole_h.append(h)\n",
    "            return delta, y, whole_y, whole_h, count_local\n",
    "        if norm_2(delta) > eps_local*16:\n",
    "            # Уменьшаем шаг в 2 раза и вычисляем заново в той же точке.\n",
    "            y_h1 = y\n",
    "            y_h2 = y\n",
    "            h /= 2\n",
    "        elif norm_2(delta) <= eps_local*16 and norm_2(delta) > eps_local:\n",
    "            # В качестве искомого решения используем приближение y(x+h), где h=h/2, при этом сокращаем шаг\n",
    "            # пополам для продолжения. Т е т к сейчас рассматриваем y(x+h), возвращаемся в точку x и ищем\n",
    "            # y(x+h/2), после сокращаем шаг в 2 раза.\n",
    "            y = y_h2_necc\n",
    "            y_h1 = y\n",
    "            y_h2 = y\n",
    "            whole_y.append(y)\n",
    "            h /= 2\n",
    "            x += h\n",
    "            \n",
    "        elif norm_2(delta) >= eps_local/32 and norm_2(delta) <= eps_local:\n",
    "            # Все ОК. Продолжаем вычисления с тем же шагом\n",
    "            y = y_h1\n",
    "            y_h1 = y\n",
    "            y_h2 = y\n",
    "            whole_y.append(y)\n",
    "            x += h\n",
    "        elif norm_2(delta) < eps_local/32:\n",
    "            # В этом случае увеличиваем шаг в 2 раза и идем дальше.\n",
    "            y = y_h1\n",
    "            y_h1 = y\n",
    "            y_h2 = y\n",
    "            whole_y.append(y)\n",
    "            x += h\n",
    "            h *= 2\n",
    "        whole_h.append(h)\n",
    "    return delta, y, whole_y, whole_h, count_local\n",
    "        \n",
    "def start_opponent():\n",
    "    R = 1e2\n",
    "    eps = 1e-4\n",
    "    DELTA = (1/np.pi)**5 + norm_2([np.pi/12, np.pi/10])**5\n",
    "    h = (eps/DELTA)**(1/5)\n",
    "    delta, y, whole_y, whole_h, count_local = solve_opponent(h)\n",
    "    print(f'Count_local = {count_local}, norm_2_delta = {norm_2(delta)}\\ny = {y}')\n",
    "    return np.array(whole_y), whole_h  "
   ]
  },
  {
   "cell_type": "code",
   "execution_count": 29,
   "metadata": {},
   "outputs": [
    {
     "name": "stdout",
     "output_type": "stream",
     "text": [
      "Count_local = 33, norm_2_delta = 4.935252102864606e-08\n",
      "y = [0.352612498082877, 0.22943357561185881]\n"
     ]
    }
   ],
   "source": [
    "y_opponent, whole_h = start_opponent()\n",
    "y1_opponent = y_opponent[:, 0]\n",
    "y2_opponent = y_opponent[:, 1]"
   ]
  },
  {
   "cell_type": "code",
   "execution_count": 30,
   "metadata": {},
   "outputs": [
    {
     "data": {
      "image/png": "[encoded data removed]",
      "text/plain": [
       "<Figure size 1080x1080 with 1 Axes>"
      ]
     },
     "metadata": {
      "needs_background": "light"
     },
     "output_type": "display_data"
    }
   ],
   "source": [
    "x = np.linspace(0, np.pi, len(whole_h))\n",
    "plt.figure(figsize=(15, 15))\n",
    "plt.grid(True)\n",
    "plt.title(\"График зависимости величины шага интегрирования (h) от значения независимой переменной (x)\")\n",
    "plt.plot(x, whole_h, color='red');"
   ]
  },
  {
   "cell_type": "markdown",
   "metadata": {},
   "source": [
    "### Сравнение."
   ]
  },
  {
   "cell_type": "code",
   "execution_count": 31,
   "metadata": {},
   "outputs": [
    {
     "name": "stdout",
     "output_type": "stream",
     "text": [
      "Count_local = 62, norm_2_delta = 7.309853658212127e-06\n",
      "y = [0.35051721294799654, 0.23160392422935613]\n",
      "CPU times: user 3.14 ms, sys: 93 µs, total: 3.24 ms\n",
      "Wall time: 3.2 ms\n"
     ]
    }
   ],
   "source": [
    "%%time\n",
    "temp = start_my_scheme()"
   ]
  },
  {
   "cell_type": "code",
   "execution_count": 32,
   "metadata": {},
   "outputs": [
    {
     "name": "stdout",
     "output_type": "stream",
     "text": [
      "Count_local = 33, norm_2_delta = 4.935252102864606e-08\n",
      "y = [0.352612498082877, 0.22943357561185881]\n",
      "CPU times: user 3.47 ms, sys: 0 ns, total: 3.47 ms\n",
      "Wall time: 3.33 ms\n"
     ]
    }
   ],
   "source": [
    "%%time\n",
    "temp = start_opponent()"
   ]
  },
  {
   "cell_type": "code",
   "execution_count": null,
   "metadata": {},
   "outputs": [],
   "source": []
  },
  {
   "cell_type": "code",
   "execution_count": null,
   "metadata": {},
   "outputs": [],
   "source": []
  }
 ],
 "metadata": {
  "kernelspec": {
   "display_name": "Python 3",
   "language": "python",
   "name": "python3"
  },
  "language_info": {
   "codemirror_mode": {
    "name": "ipython",
    "version": 3
   },
   "file_extension": ".py",
   "mimetype": "text/x-python",
   "name": "python",
   "nbconvert_exporter": "python",
   "pygments_lexer": "ipython3",
   "version": "3.6.8"
  }
 },
 "nbformat": 4,
 "nbformat_minor": 2
}
